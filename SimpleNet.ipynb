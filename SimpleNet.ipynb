{
 "cells": [
  {
   "cell_type": "code",
   "execution_count": 1,
   "id": "ef79b290",
   "metadata": {},
   "outputs": [],
   "source": [
    "import numpy as np\n",
    "import os,sys\n",
    "sys.path.append(os.pardir)"
   ]
  },
  {
   "cell_type": "code",
   "execution_count": 2,
   "id": "c2075612",
   "metadata": {},
   "outputs": [],
   "source": [
    "from Practice.SimpleNet import numerical_gradient"
   ]
  },
  {
   "cell_type": "code",
   "execution_count": 3,
   "id": "e4977490",
   "metadata": {},
   "outputs": [],
   "source": [
    "def function2(x):\n",
    "    return np.sum(x**2)"
   ]
  },
  {
   "cell_type": "code",
   "execution_count": 4,
   "id": "a4c400f2",
   "metadata": {},
   "outputs": [
    {
     "name": "stdout",
     "output_type": "stream",
     "text": [
      "[6. 8.]\n"
     ]
    }
   ],
   "source": [
    "a = np.array([3.0,4.0])\n",
    "print(numerical_gradient(function2,a))"
   ]
  },
  {
   "cell_type": "code",
   "execution_count": 5,
   "id": "8f5e684a",
   "metadata": {},
   "outputs": [],
   "source": [
    "from Practice.SimpleNet import gradient_descent"
   ]
  },
  {
   "cell_type": "code",
   "execution_count": 6,
   "id": "49356186",
   "metadata": {},
   "outputs": [
    {
     "data": {
      "text/plain": [
       "array([6.11110793e-10, 8.14814391e-10])"
      ]
     },
     "execution_count": 6,
     "metadata": {},
     "output_type": "execute_result"
    }
   ],
   "source": [
    "gradient_descent(function2, a, lr=0.1, step_num=100)"
   ]
  },
  {
   "cell_type": "code",
   "execution_count": null,
   "id": "0b671c30",
   "metadata": {},
   "outputs": [],
   "source": []
  }
 ],
 "metadata": {
  "kernelspec": {
   "display_name": "Python 3",
   "language": "python",
   "name": "python3"
  },
  "language_info": {
   "codemirror_mode": {
    "name": "ipython",
    "version": 3
   },
   "file_extension": ".py",
   "mimetype": "text/x-python",
   "name": "python",
   "nbconvert_exporter": "python",
   "pygments_lexer": "ipython3",
   "version": "3.8.8"
  }
 },
 "nbformat": 4,
 "nbformat_minor": 5
}
